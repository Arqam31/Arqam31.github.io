{
  "nbformat": 4,
  "nbformat_minor": 0,
  "metadata": {
    "colab": {
      "provenance": [],
      "authorship_tag": "ABX9TyM6Bh7otbd5BaDvBWsXNdnu",
      "include_colab_link": true
    },
    "kernelspec": {
      "name": "python3",
      "display_name": "Python 3"
    },
    "language_info": {
      "name": "python"
    }
  },
  "cells": [
    {
      "cell_type": "markdown",
      "metadata": {
        "id": "view-in-github",
        "colab_type": "text"
      },
      "source": [
        "<a href=\"https://colab.research.google.com/github/Arqam31/Arqam31.github.io/blob/master/DAA_4.ipynb\" target=\"_parent\"><img src=\"https://colab.research.google.com/assets/colab-badge.svg\" alt=\"Open In Colab\"/></a>"
      ]
    },
    {
      "cell_type": "markdown",
      "source": [
        "Ansari Arqam Nadeem Ahmed\n",
        "(BE-A-8)\n",
        "Computer\n"
      ],
      "metadata": {
        "id": "0fWXJimWiymP"
      }
    },
    {
      "cell_type": "code",
      "execution_count": null,
      "metadata": {
        "colab": {
          "base_uri": "https://localhost:8080/"
        },
        "id": "EoWspc2eiph2",
        "outputId": "0140df9c-ad77-4a68-cf4c-4c622c472ac9"
      },
      "outputs": [
        {
          "output_type": "stream",
          "name": "stdout",
          "text": [
            "220\n"
          ]
        }
      ],
      "source": [
        "# A naive recursive implementation\n",
        "# of 0-1 Knapsack Problem\n",
        "\n",
        "# Returns the maximum value that\n",
        "# can be put in a knapsack of\n",
        "# capacity W\n",
        "\n",
        "\n",
        "def knapSack(W, wt, val, n):\n",
        "\n",
        "\t# Base Case\n",
        "\tif n == 0 or W == 0:\n",
        "\t\treturn 0\n",
        "\n",
        "\t# If weight of the nth item is\n",
        "\t# more than Knapsack of capacity W,\n",
        "\t# then this item cannot be included\n",
        "\t# in the optimal solution\n",
        "\tif (wt[n-1] > W):\n",
        "\t\treturn knapSack(W, wt, val, n-1)\n",
        "\n",
        "\t# return the maximum of two cases:\n",
        "\t# (1) nth item included\n",
        "\t# (2) not included\n",
        "\telse:\n",
        "\t\treturn max(\n",
        "\t\t\tval[n-1] + knapSack(\n",
        "\t\t\t\tW-wt[n-1], wt, val, n-1),\n",
        "\t\t\tknapSack(W, wt, val, n-1))\n",
        "\n",
        "# end of function knapSack\n",
        "\n",
        "\n",
        "#Driver Code\n",
        "val = [60, 100, 120]\n",
        "wt = [10, 20, 30]\n",
        "W = 50\n",
        "n = len(val)\n",
        "print (knapSack(W, wt, val, n))"
      ]
    }
  ]
}