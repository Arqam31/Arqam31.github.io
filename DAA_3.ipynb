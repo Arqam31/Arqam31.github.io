{
  "nbformat": 4,
  "nbformat_minor": 0,
  "metadata": {
    "colab": {
      "provenance": [],
      "authorship_tag": "ABX9TyPwCy5IW//wYsB5YKe1+5Dj",
      "include_colab_link": true
    },
    "kernelspec": {
      "name": "python3",
      "display_name": "Python 3"
    },
    "language_info": {
      "name": "python"
    }
  },
  "cells": [
    {
      "cell_type": "markdown",
      "metadata": {
        "id": "view-in-github",
        "colab_type": "text"
      },
      "source": [
        "<a href=\"https://colab.research.google.com/github/Arqam31/Arqam31.github.io/blob/master/DAA_3.ipynb\" target=\"_parent\"><img src=\"https://colab.research.google.com/assets/colab-badge.svg\" alt=\"Open In Colab\"/></a>"
      ]
    },
    {
      "cell_type": "markdown",
      "source": [
        "Ansari Arqam Nadeem Ahmed\n",
        "(BE-A-8)\n",
        "Computer"
      ],
      "metadata": {
        "id": "Fs-uhQB2iZb8"
      }
    },
    {
      "cell_type": "code",
      "execution_count": null,
      "metadata": {
        "colab": {
          "base_uri": "https://localhost:8080/"
        },
        "id": "v8lgCLaaiPS7",
        "outputId": "c45f4319-e727-4ae4-d710-b8bf358655be"
      },
      "outputs": [
        {
          "output_type": "stream",
          "name": "stdout",
          "text": [
            "240.0\n"
          ]
        }
      ],
      "source": [
        "# Structure for an item which stores weight and\n",
        "# corresponding value of Item\n",
        "class Item:\n",
        "\tdef __init__(self, value, weight):\n",
        "\t\tself.value = value\n",
        "\t\tself.weight = weight\n",
        "\n",
        "# Main greedy function to solve problem\n",
        "def fractionalKnapsack(W, arr):\n",
        "\n",
        "\t# Sorting Item on basis of ratio\n",
        "\tarr.sort(key=lambda x: (x.value/x.weight), reverse=True)\n",
        "\n",
        "\t# Result(value in Knapsack)\n",
        "\tfinalvalue = 0.0\n",
        "\n",
        "\t# Looping through all Items\n",
        "\tfor item in arr:\n",
        "\n",
        "\t\t# If adding Item won't overflow,\n",
        "\t\t# add it completely\n",
        "\t\tif item.weight <= W:\n",
        "\t\t\tW -= item.weight\n",
        "\t\t\tfinalvalue += item.value\n",
        "\n",
        "\t\t# If we can't add current Item,\n",
        "\t\t# add fractional part of it\n",
        "\t\telse:\n",
        "\t\t\tfinalvalue += item.value * W / item.weight\n",
        "\t\t\tbreak\n",
        "\t\n",
        "\t# Returning final value\n",
        "\treturn finalvalue\n",
        "\n",
        "\n",
        "# Driver Code\n",
        "if __name__ == \"__main__\":\n",
        "\n",
        "\tW = 50\n",
        "\tarr = [Item(60, 10), Item(100, 20), Item(120, 30)]\n",
        "\n",
        "\t# Function call\n",
        "\tmax_val = fractionalKnapsack(W, arr)\n",
        "\tprint(max_val)\n"
      ]
    }
  ]
}