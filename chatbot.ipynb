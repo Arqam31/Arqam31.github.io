{
  "nbformat": 4,
  "nbformat_minor": 0,
  "metadata": {
    "colab": {
      "name": "chatbot.ipynb",
      "provenance": [],
      "collapsed_sections": []
    },
    "kernelspec": {
      "name": "python3",
      "display_name": "Python 3"
    },
    "language_info": {
      "name": "python"
    }
  },
  "cells": [
    {
      "cell_type": "code",
      "execution_count": 3,
      "metadata": {
        "colab": {
          "base_uri": "https://localhost:8080/"
        },
        "id": "5_dEGfdY_io-",
        "outputId": "7d37f44f-8a9c-4f3f-d4fc-d805112f0360"
      },
      "outputs": [
        {
          "output_type": "stream",
          "name": "stdout",
          "text": [
            "Looking in indexes: https://pypi.org/simple, https://us-python.pkg.dev/colab-wheels/public/simple/\n",
            "Collecting chatterbot\n",
            "  Downloading ChatterBot-1.0.8-py2.py3-none-any.whl (63 kB)\n",
            "\u001b[K     |████████████████████████████████| 63 kB 1.4 MB/s \n",
            "\u001b[?25hRequirement already satisfied: pytz in /usr/local/lib/python3.7/dist-packages (from chatterbot) (2022.1)\n",
            "Requirement already satisfied: python-dateutil<2.9,>=2.8 in /usr/local/lib/python3.7/dist-packages (from chatterbot) (2.8.2)\n",
            "Collecting sqlalchemy<1.4,>=1.3\n",
            "  Downloading SQLAlchemy-1.3.24-cp37-cp37m-manylinux2010_x86_64.whl (1.3 MB)\n",
            "\u001b[K     |████████████████████████████████| 1.3 MB 14.9 MB/s \n",
            "\u001b[?25hCollecting mathparse<0.2,>=0.1\n",
            "  Downloading mathparse-0.1.2-py3-none-any.whl (7.2 kB)\n",
            "Requirement already satisfied: six>=1.5 in /usr/local/lib/python3.7/dist-packages (from python-dateutil<2.9,>=2.8->chatterbot) (1.15.0)\n",
            "Installing collected packages: sqlalchemy, mathparse, chatterbot\n",
            "  Attempting uninstall: sqlalchemy\n",
            "    Found existing installation: SQLAlchemy 1.4.36\n",
            "    Uninstalling SQLAlchemy-1.4.36:\n",
            "      Successfully uninstalled SQLAlchemy-1.4.36\n",
            "Successfully installed chatterbot-1.0.8 mathparse-0.1.2 sqlalchemy-1.3.24\n",
            "List Trainer: [####################] 100%\n",
            "you:hello\n",
            "Bot: What payment methods do you accept?\n",
            "you:hi\n",
            "Bot: What payment methods do you accept?\n",
            "you:hello\n",
            "Bot: What payment methods do you accept?\n",
            "you:none\n",
            "Bot: I would like to speak to your customer service agent\n",
            "you:ok\n",
            "Bot:bye\n"
          ]
        }
      ],
      "source": [
        "!pip install chatterbot\n",
        "from chatterbot import ChatBot\n",
        "from chatterbot.trainers import ListTrainer\n",
        "\n",
        "bot=ChatBot('Bot')\n",
        "\n",
        "trainer=ListTrainer(bot)\n",
        "trainer.train([\n",
        "    \"Hi,can ii help you\",\n",
        "    \"Who are you?\",\n",
        "    \"I am your virtual assistant.Ask me any questions...\",\n",
        "    \"Where do you operate?\",\n",
        "    \"We operate from LA\",\n",
        "    \"What payment methods do you accept?\",\n",
        "    \"We accept debit cards and major credit cards\",\n",
        "    \"I would like to speak to your customer service agent\",\n",
        "    \"Please call +91 3333 3333.Our operating hours are from 9am to 5pm,Monday to Friday\"\n",
        "])\n",
        "while True:\n",
        "    request=input('you:')\n",
        "    if request=='OK' or request==\"ok\":\n",
        "        print('Bot:bye')\n",
        "        break\n",
        "    else:\n",
        "        response=bot.get_response(request)\n",
        "        print('Bot:',response)\n",
        "        "
      ]
    }
  ]
}