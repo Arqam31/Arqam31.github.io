{
  "nbformat": 4,
  "nbformat_minor": 0,
  "metadata": {
    "colab": {
      "provenance": [],
      "gpuType": "T4",
      "include_colab_link": true
    },
    "kernelspec": {
      "name": "python3",
      "display_name": "Python 3"
    },
    "language_info": {
      "name": "python"
    },
    "accelerator": "GPU",
    "gpuClass": "standard"
  },
  "cells": [
    {
      "cell_type": "markdown",
      "metadata": {
        "id": "view-in-github",
        "colab_type": "text"
      },
      "source": [
        "<a href=\"https://colab.research.google.com/github/Arqam31/Arqam31.github.io/blob/master/HPC4A_Vector_cu.ipynb\" target=\"_parent\"><img src=\"https://colab.research.google.com/assets/colab-badge.svg\" alt=\"Open In Colab\"/></a>"
      ]
    },
    {
      "cell_type": "code",
      "source": [
        "!pip install git+https://github.com/andreinechaev/nvcc4jupyter.git"
      ],
      "metadata": {
        "colab": {
          "base_uri": "https://localhost:8080/"
        },
        "id": "-B6L-WvPIPOv",
        "outputId": "79c2f98f-132f-4b6a-e4ad-2343b48cde82"
      },
      "execution_count": null,
      "outputs": [
        {
          "output_type": "stream",
          "name": "stdout",
          "text": [
            "Looking in indexes: https://pypi.org/simple, https://us-python.pkg.dev/colab-wheels/public/simple/\n",
            "Collecting git+https://github.com/andreinechaev/nvcc4jupyter.git\n",
            "  Cloning https://github.com/andreinechaev/nvcc4jupyter.git to /tmp/pip-req-build-gtpnf4mx\n",
            "  Running command git clone --filter=blob:none --quiet https://github.com/andreinechaev/nvcc4jupyter.git /tmp/pip-req-build-gtpnf4mx\n",
            "  Resolved https://github.com/andreinechaev/nvcc4jupyter.git to commit aac710a35f52bb78ab34d2e52517237941399eff\n",
            "  Preparing metadata (setup.py) ... \u001b[?25l\u001b[?25hdone\n",
            "Building wheels for collected packages: NVCCPlugin\n",
            "  Building wheel for NVCCPlugin (setup.py) ... \u001b[?25l\u001b[?25hdone\n",
            "  Created wheel for NVCCPlugin: filename=NVCCPlugin-0.0.2-py3-none-any.whl size=4287 sha256=ae8bdc436e046b3a22efa753f86ad378442d03be77e0ff1588b1d6021c95801c\n",
            "  Stored in directory: /tmp/pip-ephem-wheel-cache-692gm5m1/wheels/a8/b9/18/23f8ef71ceb0f63297dd1903aedd067e6243a68ea756d6feea\n",
            "Successfully built NVCCPlugin\n",
            "Installing collected packages: NVCCPlugin\n",
            "Successfully installed NVCCPlugin-0.0.2\n"
          ]
        }
      ]
    },
    {
      "cell_type": "code",
      "source": [
        "%load_ext nvcc_plugin"
      ],
      "metadata": {
        "colab": {
          "base_uri": "https://localhost:8080/"
        },
        "id": "fgMoIsyW45gy",
        "outputId": "d8e11e88-c072-4337-9712-6f9d86f6fa78"
      },
      "execution_count": null,
      "outputs": [
        {
          "output_type": "stream",
          "name": "stdout",
          "text": [
            "created output directory at /content/src\n",
            "Out bin /content/result.out\n"
          ]
        }
      ]
    },
    {
      "cell_type": "code",
      "source": [
        "%%cu\n",
        "#include <stdio.h>\n",
        "\n",
        "#define HANDLE_ERROR( err ) ( HandleError( err, __FILE__, __LINE__ ) )\n",
        "\n",
        "static void HandleError( cudaError_t err, const char *file, int line )\n",
        "{\n",
        "    if (err != cudaSuccess)\n",
        "      {\n",
        "        printf( \"%s in %s at line %d\\n\", cudaGetErrorString( err ),\n",
        "                file, line );\n",
        "        exit( EXIT_FAILURE );\n",
        "    }\n",
        "}\n",
        "\n",
        "const short N = 10 ;\n",
        "\n",
        "__global__ void Vector_Addition ( const int *dev_a , const int *dev_b , int *dev_c)\n",
        "{\n",
        "      unsigned short tid = threadIdx.x ; \n",
        "     \n",
        "      if ( tid < N ) \n",
        "            dev_c [tid] = dev_a[tid] + dev_b[tid] ; \n",
        "\n",
        "}\n",
        "\n",
        "\n",
        "int main (void)\n",
        "{    \n",
        "      int Host_a[N], Host_b[N], Host_c[N];\n",
        "\n",
        "      \n",
        "      int *dev_a , *dev_b, *dev_c ;\n",
        "\n",
        "      \n",
        "      HANDLE_ERROR ( cudaMalloc((void **)&dev_a , N*sizeof(int) ) );\n",
        "      HANDLE_ERROR ( cudaMalloc((void **)&dev_b , N*sizeof(int) ) );\n",
        "      HANDLE_ERROR ( cudaMalloc((void **)&dev_c , N*sizeof(int) ) );\n",
        "\n",
        "      \n",
        "      for ( int i = 0; i <N ; i++ )\n",
        "      {\n",
        "            Host_a[i] = i ;\n",
        "            Host_b[i] = i*i ; \n",
        "      }\n",
        "\n",
        "      HANDLE_ERROR (cudaMemcpy (dev_a , Host_a , N*sizeof(int) , cudaMemcpyHostToDevice));\n",
        "      HANDLE_ERROR (cudaMemcpy (dev_b , Host_b , N*sizeof(int) , cudaMemcpyHostToDevice));\n",
        "\n",
        "      Vector_Addition <<< 1, N  >>> (dev_a , dev_b , dev_c ) ;\n",
        " \n",
        "      HANDLE_ERROR (cudaMemcpy(Host_c , dev_c , N*sizeof(int) , cudaMemcpyDeviceToHost));\n",
        "\n",
        "      for ( int i = 0; i<N; i++ )\n",
        "                  printf (\"%d + %d = %d\\n\", Host_a[i] , Host_b[i] , Host_c[i] ) ;\n",
        "\n",
        "      cudaFree (dev_a) ;\n",
        "      cudaFree (dev_b) ;\n",
        "      cudaFree (dev_c) ;\n",
        "\n",
        "      system(\"pause\");\n",
        "      return 0 ;\n",
        "\n",
        "}"
      ],
      "metadata": {
        "colab": {
          "base_uri": "https://localhost:8080/"
        },
        "id": "BBncDbkyMGKV",
        "outputId": "960eaf1b-10f6-4a46-a2de-95f4ec4b232a"
      },
      "execution_count": null,
      "outputs": [
        {
          "output_type": "stream",
          "name": "stdout",
          "text": [
            "sh: 1: pause: not found\n",
            "0 + 0 = 0\n",
            "1 + 1 = 2\n",
            "2 + 4 = 6\n",
            "3 + 9 = 12\n",
            "4 + 16 = 20\n",
            "5 + 25 = 30\n",
            "6 + 36 = 42\n",
            "7 + 49 = 56\n",
            "8 + 64 = 72\n",
            "9 + 81 = 90\n",
            "\n"
          ]
        }
      ]
    }
  ]
}